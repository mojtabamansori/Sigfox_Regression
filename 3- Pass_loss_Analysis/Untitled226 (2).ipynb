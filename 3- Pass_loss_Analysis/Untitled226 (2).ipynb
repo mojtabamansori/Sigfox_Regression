{
  "nbformat": 4,
  "nbformat_minor": 0,
  "metadata": {
    "colab": {
      "provenance": []
    },
    "kernelspec": {
      "name": "python3",
      "display_name": "Python 3"
    },
    "language_info": {
      "name": "python"
    }
  },
  "cells": [
    {
      "cell_type": "markdown",
      "source": [
        "**import library**"
      ],
      "metadata": {
        "id": "rSnjGs76MCEz"
      }
    },
    {
      "cell_type": "code",
      "source": [
        "import math\n",
        "import pandas as pd\n",
        "import matplotlib.pyplot as plt\n",
        "import numpy as np"
      ],
      "metadata": {
        "id": "KJ9T7Dr_74h3",
        "collapsed": true
      },
      "execution_count": 137,
      "outputs": []
    },
    {
      "cell_type": "markdown",
      "source": [
        "**Load Data**"
      ],
      "metadata": {
        "id": "uMZBdRqJMtlb"
      }
    },
    {
      "cell_type": "code",
      "source": [
        "import pandas as pd\n",
        "\n",
        "# بارگذاری فایل CSV\n",
        "original_file = np.array(pd.read_csv('/content/Orginal.csv'))\n",
        "\n",
        "# برش داده‌ها\n",
        "x = original_file[:, :-3]\n",
        "y = original_file[:, -2:]"
      ],
      "metadata": {
        "id": "kr6ZDeeEMtLr"
      },
      "execution_count": 141,
      "outputs": []
    },
    {
      "cell_type": "markdown",
      "source": [
        "\n"
      ],
      "metadata": {
        "id": "Ezu-ar8g5bRD"
      }
    },
    {
      "cell_type": "code",
      "source": [
        "x_1 = x[:,30]\n",
        "y_1 = y[:,0]\n",
        "y_2 = y[:,1]\n",
        "\n",
        "x_1_filtered = x_1[x_1 != -200]\n",
        "y_1_filtered = y_1[x_1 != -200]\n",
        "y_2_filtered = y_2[x_1 != -200]\n",
        "\n",
        "P = 0\n",
        "f = 868 # MH\n",
        "P_loss = P - x_1_filtered\n",
        "list_of_d = 10 ** ((P_loss - 20 * np.log10(f) - 32.45) / 20)\n",
        "\n",
        "plt.scatter(y_2_filtered, y_1_filtered, color='blue', marker='o')\n",
        "plt.title('Scatter Plot of coordinate')\n",
        "plt.xlabel('X ')\n",
        "plt.ylabel('Y ')\n",
        "\n",
        "print(f'min x :{np.min(y_1)} , max x :{np.max(y_1)}')\n",
        "print(f'min y :{np.min(y_2)} , max y :{np.max(y_2)}')\n",
        "len_x = np.max(y_1)-np.min(y_1)\n",
        "len_y = np.max(y_2)-np.min(y_2)\n",
        "print(f'len of x : {np.max(y_1)-np.min(y_1)}')\n",
        "print(f'len of y : {np.max(y)-np.min(y)}')\n",
        "diameter = math.sqrt((len_x**2)+(len_y**2))\n",
        "print(f'diameter : {math.sqrt((len_x**2)+(len_y**2))}')\n"
      ],
      "metadata": {
        "id": "6iF_eqac6CgU",
        "colab": {
          "base_uri": "https://localhost:8080/",
          "height": 559
        },
        "outputId": "827b820e-3c3b-456c-da70-eebfa85fcfbd"
      },
      "execution_count": 143,
      "outputs": [
        {
          "output_type": "stream",
          "name": "stdout",
          "text": [
            "min x :50.9785496 , max x :51.28721619\n",
            "min y :3.685051 , max y :4.333006859\n",
            "len of x : 0.3086665900000014\n",
            "len of y : 47.60216519\n",
            "diameter : 0.7177199028831909\n"
          ]
        },
        {
          "output_type": "display_data",
          "data": {
            "text/plain": [
              "<Figure size 640x480 with 1 Axes>"
            ],
            "image/png": "[encoded data removed]"
          },
          "metadata": {}
        }
      ]
    },
    {
      "cell_type": "code",
      "source": [
        "diameter = .71\n",
        "list_new_d = (diameter * list_of_d) / 1068\n",
        "list_new_d"
      ],
      "metadata": {
        "id": "5ig_t9zHEWvm",
        "colab": {
          "base_uri": "https://localhost:8080/"
        },
        "outputId": "68fdb4d2-c03c-4653-a065-f69997de0d71"
      },
      "execution_count": 144,
      "outputs": [
        {
          "output_type": "execute_result",
          "data": {
            "text/plain": [
              "array([0.11525701582157352, 0.036447468631023536, 0.036447468631023536,\n",
              "       ..., 0.028951253417849546, 0.051483417847780835,\n",
              "       0.12932049873957882], dtype=object)"
            ]
          },
          "metadata": {},
          "execution_count": 144
        }
      ]
    },
    {
      "cell_type": "code",
      "source": [
        "import numpy as np\n",
        "import matplotlib.pyplot as plt\n",
        "\n",
        "# فرض کنید y_1، y_2 و list_new_d از قبل تعریف شده‌اند\n",
        "y_2 = np.array(y_1_filtered)  # مرکزهای دایره در محور x\n",
        "y_1 = np.array(y_2_filtered)  # مرکزهای دایره در محور y\n",
        "list_new_d = np.array(list_new_d)  # شعاع‌های دایره‌ها\n",
        "\n",
        "# انتخاب 5 دایره با بزرگترین شعاع‌ها\n",
        "top_5_indices = np.argsort(list_new_d)[-20:]  # ایندکس‌های 5 شعاع بزرگتر\n",
        "\n",
        "# فیلتر کردن مراکز و شعاع‌های مربوطه\n",
        "y_1_top_5 = y_1[top_5_indices]\n",
        "y_2_top_5 = y_2[top_5_indices]\n",
        "list_new_d_top_5 = list_new_d[top_5_indices]\n",
        "\n",
        "# ایجاد یک scatter plot با دایره‌های انتخاب‌شده\n",
        "fig, ax = plt.subplots()\n",
        "\n",
        "# رسم دایره‌های بزرگتر\n",
        "for i in range(len(list_new_d_top_5)):\n",
        "    circle = plt.Circle((y_1_top_5[i], y_2_top_5[i]), list_new_d_top_5[i], color='b', fill=False)  # دایره بدون رنگ داخلی\n",
        "    ax.add_patch(circle)\n",
        "\n",
        "# تنظیمات محور‌ها\n",
        "ax.set_aspect('equal', 'box')  # برای نسبت مساوی بین محور x و y\n",
        "plt.xlim(min(y_1_top_5) - max(list_new_d_top_5), max(y_1_top_5) + max(list_new_d_top_5))  # تنظیمات محدوده x\n",
        "plt.ylim(min(y_2_top_5) - max(list_new_d_top_5), max(y_2_top_5) + max(list_new_d_top_5))  # تنظیمات محدوده y\n",
        "\n",
        "# عنوان و نمایش\n",
        "plt.title('Scatter plot of top 5 circles with largest radii')\n",
        "plt.xlabel('y_1 (X-axis)')\n",
        "plt.ylabel('y_2 (Y-axis)')\n",
        "plt.xlim(3.8,4.3)\n",
        "plt.ylim(50.75,51.6)\n",
        "plt.grid(True)\n",
        "\n",
        "# نمایش نمودار\n",
        "plt.show()"
      ],
      "metadata": {
        "id": "WyQaEjSPEy13",
        "colab": {
          "base_uri": "https://localhost:8080/",
          "height": 472
        },
        "outputId": "96cd93d8-87ca-4709-c036-bf0c384e56e9"
      },
      "execution_count": 145,
      "outputs": [
        {
          "output_type": "display_data",
          "data": {
            "text/plain": [
              "<Figure size 640x480 with 1 Axes>"
            ],
            "image/png": "[encoded data removed]"
          },
          "metadata": {}
        }
      ]
    },
    {
      "cell_type": "code",
      "source": [
        "import math\n",
        "import pandas as pd\n",
        "import matplotlib.pyplot as plt\n",
        "import numpy as np\n",
        "\n",
        "# بارگذاری فایل CSV\n",
        "original_file = np.array(pd.read_csv('/content/Orginal.csv'))\n",
        "\n",
        "# برش داده‌ها\n",
        "x = original_file[:, :-3]\n",
        "y = original_file[:, -2:]\n",
        "for i2 in range(137):\n",
        "  x_1 = x[:,i2]\n",
        "  y_1 = y[:,0]\n",
        "  y_2 = y[:,1]\n",
        "\n",
        "  x_1_filtered = x_1[x_1 != -200]\n",
        "  y_1_filtered = y_1[x_1 != -200]\n",
        "  y_2_filtered = y_2[x_1 != -200]\n",
        "\n",
        "  P = 0\n",
        "  f = 868 # MH\n",
        "  P_loss = P - x_1_filtered\n",
        "  list_of_d = 10 ** ((P_loss - 20 * np.log10(f) - 32.45) / 20)\n",
        "\n",
        "  plt.scatter(y_2_filtered, y_1_filtered, color='blue', marker='o')\n",
        "  plt.title('Scatter Plot of coordinate')\n",
        "  plt.xlabel('X ')\n",
        "  plt.ylabel('Y ')\n",
        "\n",
        "\n",
        "  len_x = np.max(y_1)-np.min(y_1)\n",
        "  len_y = np.max(y_2)-np.min(y_2)\n",
        "\n",
        "  diameter = math.sqrt((len_x**2)+(len_y**2))\n",
        "\n",
        "  diameter = .71\n",
        "  list_new_d = (diameter * list_of_d) / 1068\n",
        "  list_new_d\n",
        "\n",
        "  import numpy as np\n",
        "  import matplotlib.pyplot as plt\n",
        "\n",
        "  # فرض کنید y_1، y_2 و list_new_d از قبل تعریف شده‌اند\n",
        "  y_2 = np.array(y_1_filtered)  # مرکزهای دایره در محور x\n",
        "  y_1 = np.array(y_2_filtered)  # مرکزهای دایره در محور y\n",
        "  list_new_d = np.array(list_new_d)  # شعاع‌های دایره‌ها\n",
        "\n",
        "  # انتخاب 5 دایره با بزرگترین شعاع‌ها\n",
        "  top_5_indices = np.argsort(list_new_d)[-20:]  # ایندکس‌های 5 شعاع بزرگتر\n",
        "\n",
        "  # فیلتر کردن مراکز و شعاع‌های مربوطه\n",
        "  y_1_top_5 = y_1[top_5_indices]\n",
        "  y_2_top_5 = y_2[top_5_indices]\n",
        "  list_new_d_top_5 = list_new_d[top_5_indices]\n",
        "\n",
        "  # ایجاد یک scatter plot با دایره‌های انتخاب‌شده\n",
        "  fig, ax = plt.subplots()\n",
        "\n",
        "  # رسم دایره‌های بزرگتر\n",
        "  for i in range(len(list_new_d_top_5)):\n",
        "      circle = plt.Circle((y_1_top_5[i], y_2_top_5[i]), list_new_d_top_5[i], color='b', fill=False)  # دایره بدون رنگ داخلی\n",
        "      ax.add_patch(circle)\n",
        "\n",
        "  # تنظیمات محور‌ها\n",
        "  ax.set_aspect('equal', 'box')  # برای نسبت مساوی بین محور x و y\n",
        "  plt.xlim(min(y_1_top_5) - max(list_new_d_top_5), max(y_1_top_5) + max(list_new_d_top_5))  # تنظیمات محدوده x\n",
        "  plt.ylim(min(y_2_top_5) - max(list_new_d_top_5), max(y_2_top_5) + max(list_new_d_top_5))  # تنظیمات محدوده y\n",
        "\n",
        "  # عنوان و نمایش\n",
        "  plt.title('Scatter plot of top 5 circles with largest radii')\n",
        "  plt.xlabel('y_1 (X-axis)')\n",
        "  plt.ylabel('y_2 (Y-axis)')\n",
        "  plt.xlim(3.8,4.3)\n",
        "  plt.ylim(50.75,51.6)\n",
        "  plt.grid(True)\n",
        "\n",
        "  # نمایش نمودار\n",
        "  plt.savefig(f'scatter_index_{i2}.png')  # نام فایل را تنظیم کنید\n",
        "  plt.close()\n"
      ],
      "metadata": {
        "colab": {
          "base_uri": "https://localhost:8080/",
          "height": 472
        },
        "id": "3_5vJ7TTOyZz",
        "outputId": "e722ed7a-a747-49f2-cedc-47066bc2d808"
      },
      "execution_count": 149,
      "outputs": [
        {
          "output_type": "display_data",
          "data": {
            "text/plain": [
              "<Figure size 640x480 with 1 Axes>"
            ],
            "image/png": "[encoded data removed]"
          },
          "metadata": {}
        }
      ]
    },
    {
      "cell_type": "code",
      "source": [
        "import numpy as np\n",
        "\n",
        "# فرض می‌کنیم x، y و ستون‌ها را از قبل تعریف کرده‌اید\n",
        "# ابتدا یک ماسک ایجاد می‌کنیم که سطرهایی که برابر با -200 نیستند را نگه دارد\n",
        "mask = x_1 != -200\n",
        "\n",
        "# سپس از این ماسک برای فیلتر کردن سطرها در هر سه لیست استفاده می‌کنیم\n",
        "x_1_filtered = x_1[mask]\n",
        "y_1_filtered = y_1[mask]\n",
        "y_2_filtered = y_2[mask]\n"
      ],
      "metadata": {
        "id": "ATlm83YeEpib"
      },
      "execution_count": 117,
      "outputs": []
    },
    {
      "cell_type": "code",
      "source": [
        "import numpy as np\n",
        "import math\n",
        "\n",
        "# فرض کنید x_1_filtered و فرکانس f و توان P تعریف شده‌اند\n",
        "P = 0\n",
        "f = 868  # MHz\n",
        "\n",
        "# ایجاد لیست جدید برای نگهداری فواصل محاسبه‌شده\n",
        "list_of_d = []\n",
        "\n",
        "# تبدیل x_1_filtered به فاصله (d) با استفاده از فرمول افت توان\n",
        "for i in x_1_filtered:\n",
        "    P_loss = P - i\n",
        "    d = 10 ** ((P_loss - 20 * math.log10(f) - 32.45) / 20)\n",
        "    list_of_d.append(d)\n",
        "\n",
        "# نتیجه به صورت یک لیست از فواصل (d)\n",
        "list_of_d = np.array(list_of_d)  # به صورت آرایه numpy نیز می‌توانید ذخیره کنید\n"
      ],
      "metadata": {
        "id": "-G_U9gp5LwNb"
      },
      "execution_count": null,
      "outputs": []
    },
    {
      "cell_type": "code",
      "source": [
        "import numpy as np\n",
        "import math\n",
        "\n",
        "# فرض کنید x_1_filtered، فرکانس f و توان P تعریف شده‌اند\n",
        "P = 0\n",
        "f = 868  # MHz\n",
        "\n",
        "# محاسبه افت توان (P_loss)\n",
        "P_loss = P - x_1_filtered\n",
        "\n",
        "# محاسبه d به صورت برداری بدون نیاز به حلقه for\n",
        "list_of_d = 10 ** ((P_loss - 20 * np.log10(f) - 32.45) / 20)\n"
      ],
      "metadata": {
        "id": "gpd-Pz4JLziD"
      },
      "execution_count": null,
      "outputs": []
    },
    {
      "cell_type": "code",
      "source": [
        "import numpy as np\n",
        "\n",
        "# فرض کنید diameter تعریف شده است\n",
        "diameter = 50  # به عنوان مثال یک مقدار برای diameter\n",
        "\n",
        "# محاسبه فاصله‌های جدید به صورت برداری\n",
        "list_new_d = (diameter * list_of_d) / 1068\n"
      ],
      "metadata": {
        "id": "Q7xzPUKpL1ar"
      },
      "execution_count": null,
      "outputs": []
    },
    {
      "cell_type": "code",
      "source": [
        "import numpy as np\n",
        "import matplotlib.pyplot as plt\n",
        "\n",
        "# فرض کنید y_1، y_2 و list_new_d از قبل تعریف شده‌اند\n",
        "y_1 = np.array(y_1_filtered)  # مرکزهای دایره در محور x\n",
        "y_2 = np.array(y_2_filtered)  # مرکزهای دایره در محور y\n",
        "list_new_d = np.array(list_new_d)  # شعاع‌های دایره‌ها\n",
        "\n",
        "# ایجاد یک scatter plot با دایره‌ها\n",
        "fig, ax = plt.subplots()\n",
        "\n",
        "# رسم دایره‌ها\n",
        "for i in range(len(list_new_d)):\n",
        "    circle = plt.Circle((y_1[i], y_2[i]), list_new_d[i], color='b', fill=False)  # دایره بدون رنگ داخلی\n",
        "    ax.add_patch(circle)\n",
        "\n",
        "# تنظیمات محور‌ها\n",
        "ax.set_aspect('equal', 'box')  # برای نسبت مساوی بین محور x و y\n",
        "plt.xlim(min(y_1) - max(list_new_d), max(y_1) + max(list_new_d))  # تنظیمات محدوده x\n",
        "plt.ylim(min(y_2) - max(list_new_d), max(y_2) + max(list_new_d))  # تنظیمات محدوده y\n",
        "\n",
        "# عنوان و نمایش\n",
        "plt.title('Scatter plot of circles with centers (y_1, y_2) and radii list_new_d')\n",
        "plt.xlabel('y_1 (X-axis)')\n",
        "plt.ylabel('y_2 (Y-axis)')\n",
        "plt.grid(True)\n",
        "\n",
        "# نمایش نمودار\n",
        "plt.show()\n"
      ],
      "metadata": {
        "id": "hGYsm3u5L2ja"
      },
      "execution_count": null,
      "outputs": []
    },
    {
      "cell_type": "code",
      "source": [
        "import numpy as np\n",
        "import matplotlib.pyplot as plt\n",
        "from scipy.stats import gaussian_kde\n",
        "\n",
        "# فرض کنید y_1، y_2 و list_new_d از قبل تعریف شده‌اند\n",
        "y_1 = np.array(y_1_filtered)  # مرکزهای دایره در محور x\n",
        "y_2 = np.array(y_2_filtered)  # مرکزهای دایره در محور y\n",
        "list_new_d = np.array(list_new_d)  # شعاع‌های دایره‌ها\n",
        "\n",
        "# ایجاد یک scatter plot با دایره‌ها\n",
        "fig, ax = plt.subplots()\n",
        "\n",
        "# رسم دایره‌ها\n",
        "for i in range(len(list_new_d)):\n",
        "    circle = plt.Circle((y_1[i], y_2[i]), list_new_d[i], color='b', fill=False)  # دایره بدون رنگ داخلی\n",
        "    ax.add_patch(circle)\n",
        "\n",
        "# تنظیمات محور‌ها\n",
        "ax.set_aspect('equal', 'box')  # برای نسبت مساوی بین محور x و y\n",
        "\n",
        "# ایجاد داده‌های شبکه برای نقشه چگالی\n",
        "x_min, x_max = min(y_1) - max(list_new_d), max(y_1) + max(list_new_d)\n",
        "y_min, y_max = min(y_2) - max(list_new_d), max(y_2) + max(list_new_d)\n",
        "x_values, y_values = np.mgrid[x_min:x_max:100j, y_min:y_max:100j]\n",
        "\n",
        "# ایجاد لیستی از مراکز دایره‌ها برای محاسبه چگالی\n",
        "positions = np.vstack([x_values.ravel(), y_values.ravel()])\n",
        "centers = np.vstack([y_1, y_2])\n",
        "\n",
        "# محاسبه چگالی با استفاده از gaussian_kde\n",
        "kde = gaussian_kde(centers)\n",
        "density = kde(positions).reshape(x_values.shape)\n",
        "\n",
        "# نمایش نقشه چگالی\n",
        "plt.imshow(np.rot90(density), cmap=plt.cm.hot, extent=[x_min, x_max, y_min, y_max])\n",
        "\n",
        "# عنوان و نمایش\n",
        "plt.title('Scatter plot of circles with density highlighting intersections')\n",
        "plt.xlabel('y_1 (X-axis)')\n",
        "plt.ylabel('y_2 (Y-axis)')\n",
        "plt.grid(True)\n",
        "\n",
        "# نمایش نمودار\n",
        "plt.show()\n"
      ],
      "metadata": {
        "id": "4sDo-8HWL3ez"
      },
      "execution_count": null,
      "outputs": []
    },
    {
      "cell_type": "code",
      "source": [
        "import numpy as np\n",
        "import matplotlib.pyplot as plt\n",
        "from scipy.stats import gaussian_kde\n",
        "\n",
        "# فرض کنید y_1، y_2 و list_new_d از قبل تعریف شده‌اند\n",
        "y_1 = np.array(y_1_filtered, dtype=float)  # مرکزهای دایره در محور x به صورت float\n",
        "y_2 = np.array(y_2_filtered, dtype=float)  # مرکزهای دایره در محور y به صورت float\n",
        "list_new_d = np.array(list_new_d, dtype=float)  # شعاع‌های دایره‌ها به صورت float\n",
        "\n",
        "# ایجاد یک scatter plot با دایره‌ها\n",
        "fig, ax = plt.subplots()\n",
        "\n",
        "# رسم دایره‌ها\n",
        "for i in range(len(list_new_d)):\n",
        "    circle = plt.Circle((y_1[i], y_2[i]), list_new_d[i], color='b', fill=False)  # دایره بدون رنگ داخلی\n",
        "    ax.add_patch(circle)\n",
        "\n",
        "# تنظیمات محور‌ها\n",
        "ax.set_aspect('equal', 'box')  # برای نسبت مساوی بین محور x و y\n",
        "\n",
        "# ایجاد داده‌های شبکه برای نقشه چگالی\n",
        "x_min, x_max = min(y_1) - max(list_new_d), max(y_1) + max(list_new_d)\n",
        "y_min, y_max = min(y_2) - max(list_new_d), max(y_2) + max(list_new_d)\n",
        "x_values, y_values = np.mgrid[x_min:x_max:100j, y_min:y_max:100j]\n",
        "\n",
        "# ایجاد لیستی از مراکز دایره‌ها برای محاسبه چگالی\n",
        "positions = np.vstack([x_values.ravel(), y_values.ravel()])\n",
        "centers = np.vstack([y_1, y_2])\n",
        "\n",
        "# محاسبه چگالی با استفاده از gaussian_kde\n",
        "kde = gaussian_kde(centers)\n",
        "density = kde(positions).reshape(x_values.shape)\n",
        "\n",
        "# نمایش نقشه چگالی\n",
        "plt.imshow(np.rot90(density), cmap=plt.cm.hot, extent=[x_min, x_max, y_min, y_max])\n",
        "\n",
        "# عنوان و نمایش\n",
        "plt.title('Scatter plot of circles with density highlighting intersections')\n",
        "plt.xlabel('y_1 (X-axis)')\n",
        "plt.ylabel('y_2 (Y-axis)')\n",
        "plt.grid(True)\n",
        "\n",
        "# نمایش نمودار\n",
        "plt.show()\n"
      ],
      "metadata": {
        "id": "uQJzon6UL7Vb"
      },
      "execution_count": null,
      "outputs": []
    },
    {
      "cell_type": "code",
      "source": [
        "import numpy as np\n",
        "import matplotlib.pyplot as plt\n",
        "\n",
        "# فرض کنید y_1، y_2 و list_new_d از قبل تعریف شده‌اند\n",
        "y_2 = np.array(y_1_filtered)  # مرکزهای دایره در محور x\n",
        "y_1 = np.array(y_2_filtered)  # مرکزهای دایره در محور y\n",
        "list_new_d = np.array(list_new_d)  # شعاع‌های دایره‌ها\n",
        "\n",
        "# انتخاب 5 دایره با بزرگترین شعاع‌ها\n",
        "top_5_indices = np.argsort(list_new_d)[-5:]  # ایندکس‌های 5 شعاع بزرگتر\n",
        "\n",
        "# فیلتر کردن مراکز و شعاع‌های مربوطه\n",
        "y_1_top_5 = y_1[top_5_indices]\n",
        "y_2_top_5 = y_2[top_5_indices]\n",
        "list_new_d_top_5 = list_new_d[top_5_indices]\n",
        "\n",
        "# ایجاد یک scatter plot با دایره‌های انتخاب‌شده\n",
        "fig, ax = plt.subplots()\n",
        "\n",
        "# رسم دایره‌های بزرگتر\n",
        "for i in range(len(list_new_d_top_5)):\n",
        "    circle = plt.Circle((y_1_top_5[i], y_2_top_5[i]), list_new_d_top_5[i], color='b', fill=False)  # دایره بدون رنگ داخلی\n",
        "    ax.add_patch(circle)\n",
        "\n",
        "# تنظیمات محور‌ها\n",
        "ax.set_aspect('equal', 'box')  # برای نسبت مساوی بین محور x و y\n",
        "plt.xlim(min(y_1_top_5) - max(list_new_d_top_5), max(y_1_top_5) + max(list_new_d_top_5))  # تنظیمات محدوده x\n",
        "plt.ylim(min(y_2_top_5) - max(list_new_d_top_5), max(y_2_top_5) + max(list_new_d_top_5))  # تنظیمات محدوده y\n",
        "\n",
        "# عنوان و نمایش\n",
        "plt.title('Scatter plot of top 5 circles with largest radii')\n",
        "plt.xlabel('y_1 (X-axis)')\n",
        "plt.ylabel('y_2 (Y-axis)')\n",
        "plt.grid(True)\n",
        "\n",
        "# نمایش نمودار\n",
        "plt.show()\n"
      ],
      "metadata": {
        "id": "OkXHa6hvL95z"
      },
      "execution_count": null,
      "outputs": []
    },
    {
      "cell_type": "code",
      "source": [
        "import numpy as np\n",
        "from itertools import combinations\n",
        "import matplotlib.pyplot as plt\n",
        "\n",
        "# Function to calculate Euclidean distance\n",
        "def euclidean_distance(p1, p2):\n",
        "    return np.sqrt((p1[0] - p2[0])**2 + (p1[1] - p2[1])**2)\n",
        "\n",
        "# Function to find intersecting points\n",
        "def find_intersecting_points(points, radii):\n",
        "    intersecting_pairs = []\n",
        "    for (i, point1), (j, point2) in combinations(enumerate(points), 2):\n",
        "        distance = euclidean_distance(point1, point2)\n",
        "        if distance <= (radii[i] + radii[j]):\n",
        "            intersecting_pairs.append((i, j))  # store the indices of the intersecting points\n",
        "    return intersecting_pairs\n",
        "\n",
        "# Example usage\n",
        "# فرض کنید x و list_of_d از قبل تعریف شده‌اند\n",
        "# points را با x_1 و y_1, y_2, list_new_d به روز کنید\n",
        "for index in range(0, 138):  # از 0 تا 137\n",
        "    x_1 = x[:, index]  # به روز رسانی x_1\n",
        "\n",
        "    # با استفاده از x_1 محاسبات شعاع‌های جدید و مراکز دایره‌ها را انجام دهید\n",
        "    diameter = 0.71\n",
        "    list_new_d = (diameter * list_of_d) / 1068\n",
        "\n",
        "    # فرض کنید y_1، y_2 و list_new_d از قبل تعریف شده‌اند\n",
        "    y_2 = np.array(y_1_filtered)  # مرکزهای دایره در محور x\n",
        "    y_1 = np.array(y_2_filtered)  # مرکزهای دایره در محور y\n",
        "    list_new_d = np.array(list_new_d)  # شعاع‌های دایره‌ها\n",
        "\n",
        "    # انتخاب 20 دایره با بزرگترین شعاع‌ها\n",
        "    top_20_indices = np.argsort(list_new_d)[-20:]  # ایندکس‌های 20 شعاع بزرگتر\n",
        "\n",
        "    # فیلتر کردن مراکز و شعاع‌های مربوطه\n",
        "    y_1_top_20 = y_1[top_20_indices]\n",
        "    y_2_top_20 = y_2[top_20_indices]\n",
        "    list_new_d_top_20 = list_new_d[top_20_indices]\n",
        "\n",
        "    # ایجاد یک scatter plot با دایره‌های انتخاب‌شده\n",
        "    fig, ax = plt.subplots()\n",
        "\n",
        "    # رسم دایره‌های بزرگتر\n",
        "    for i in range(len(list_new_d_top_20)):\n",
        "        circle = plt.Circle((y_1_top_20[i], y_2_top_20[i]), list_new_d_top_20[i], color='b', fill=False)  # دایره بدون رنگ داخلی\n",
        "        ax.add_patch(circle)\n",
        "\n",
        "    # تنظیمات محور‌ها\n",
        "    ax.set_aspect('equal', 'box')  # برای نسبت مساوی بین محور x و y\n",
        "    plt.xlim(min(y_1_top_20) - max(list_new_d_top_20), max(y_1_top_20) + max(list_new_d_top_20))  # تنظیمات محدوده x\n",
        "    plt.ylim(min(y_2_top_20) - max(list_new_d_top_20), max(y_2_top_20) + max(list_new_d_top_20))  # تنظیمات محدوده y\n",
        "\n",
        "    # عنوان و نمایش\n",
        "    plt.title(f'Scatter plot of top 20 circles with largest radii for x[:, {index}]')\n",
        "    plt.xlabel('y_1 (X-axis)')\n",
        "    plt.ylabel('y_2 (Y-axis)')\n",
        "    plt.xlim(3.8, 4.3)\n",
        "    plt.ylim(50.75, 51.6)\n",
        "    plt.grid(True)\n",
        "\n",
        "    # ذخیره نمودار به عنوان یک فایل تصویر\n",
        "    plt.savefig(f'scatter_plot_index_{index}.png')  # نام فایل را تنظیم کنید\n",
        "    plt.close()  # بستن نمودار برای جلوگیری از تداخل در حلقه\n"
      ],
      "metadata": {
        "id": "pPCkDeTVL_Ub"
      },
      "execution_count": null,
      "outputs": []
    },
    {
      "cell_type": "markdown",
      "source": [],
      "metadata": {
        "id": "OLoBGkExLzUC"
      }
    }
  ]
}